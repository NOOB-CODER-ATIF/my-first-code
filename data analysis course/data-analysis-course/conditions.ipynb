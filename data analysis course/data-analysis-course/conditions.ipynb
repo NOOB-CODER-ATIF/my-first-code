{
 "cells": [
  {
   "cell_type": "markdown",
   "metadata": {},
   "source": [
    "conditions in python\n",
    "- block of code \n",
    "   -'if', 'else', 'elif', 'while', 'for', 'try'\n",
    "- if condition\n",
    "- if else condition\n",
    "- if elif ladder\n",
    "- nested if else \n",
    "- short hand \n",
    "- match case\n",
    "\n"
   ]
  },
  {
   "cell_type": "markdown",
   "metadata": {},
   "source": []
  },
  {
   "cell_type": "code",
   "execution_count": 2,
   "metadata": {},
   "outputs": [
    {
     "name": "stdout",
     "output_type": "stream",
     "text": [
      "bye\n"
     ]
    }
   ],
   "source": [
    "a = -3\n",
    "if a > 5:\n",
    "    print(\"a is greater than 5\")\n",
    "    print('hii')\n",
    "print('bye')"
   ]
  },
  {
   "cell_type": "code",
   "execution_count": 4,
   "metadata": {},
   "outputs": [
    {
     "name": "stdout",
     "output_type": "stream",
     "text": [
      "very good , you know how to type long word\n"
     ]
    }
   ],
   "source": [
    "word = input('enter a long word')\n",
    "if len(word) > 10:\n",
    "    print(\"very good , you know how to type long word\")"
   ]
  },
  {
   "cell_type": "code",
   "execution_count": 6,
   "metadata": {},
   "outputs": [
    {
     "name": "stdout",
     "output_type": "stream",
     "text": [
      "not 100\n"
     ]
    }
   ],
   "source": [
    "n = [12, 13, 25,5]\n",
    "if sum(n) > 100:\n",
    "    print(\"yay 100\")\n",
    "else:\n",
    "    print(\"not 100\")"
   ]
  },
  {
   "cell_type": "code",
   "execution_count": null,
   "metadata": {},
   "outputs": [],
   "source": []
  }
 ],
 "metadata": {
  "kernelspec": {
   "display_name": "base",
   "language": "python",
   "name": "python3"
  },
  "language_info": {
   "codemirror_mode": {
    "name": "ipython",
    "version": 3
   },
   "file_extension": ".py",
   "mimetype": "text/x-python",
   "name": "python",
   "nbconvert_exporter": "python",
   "pygments_lexer": "ipython3",
   "version": "3.12.4"
  }
 },
 "nbformat": 4,
 "nbformat_minor": 2
}
