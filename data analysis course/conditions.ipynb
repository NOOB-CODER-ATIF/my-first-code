{
 "cells": [
  {
   "cell_type": "markdown",
   "metadata": {},
   "source": [
    "conditions in python\n",
    "- block of code \n",
    "   -'if', 'else', 'elif', 'while', 'for', 'try'\n",
    "- if condition\n",
    "- if else condition\n",
    "- if elif ladder\n",
    "- nested if else \n",
    "- short hand \n",
    "- match case\n",
    "\n"
   ]
  },
  {
   "cell_type": "markdown",
   "metadata": {},
   "source": []
  },
  {
   "cell_type": "code",
   "execution_count": 2,
   "metadata": {},
   "outputs": [
    {
     "name": "stdout",
     "output_type": "stream",
     "text": [
      "bye\n"
     ]
    }
   ],
   "source": [
    "a = -3\n",
    "if a > 5:\n",
    "    print(\"a is greater than 5\")\n",
    "    print('hii')\n",
    "print('bye')"
   ]
  },
  {
   "cell_type": "code",
   "execution_count": 4,
   "metadata": {},
   "outputs": [
    {
     "name": "stdout",
     "output_type": "stream",
     "text": [
      "very good , you know how to type long word\n"
     ]
    }
   ],
   "source": [
    "word = input('enter a long word')\n",
    "if len(word) > 10:\n",
    "    print(\"very good , you know how to type long word\")"
   ]
  },
  {
   "cell_type": "code",
   "execution_count": 6,
   "metadata": {},
   "outputs": [
    {
     "name": "stdout",
     "output_type": "stream",
     "text": [
      "not 100\n"
     ]
    }
   ],
   "source": [
    "n = [12, 13, 25,5]\n",
    "if sum(n) > 100:\n",
    "    print(\"yay 100\")\n",
    "else:\n",
    "    print(\"not 100\")"
   ]
  },
  {
   "cell_type": "code",
   "execution_count": 4,
   "metadata": {},
   "outputs": [
    {
     "name": "stdout",
     "output_type": "stream",
     "text": [
      "wrong\n"
     ]
    }
   ],
   "source": [
    "# short hand if else\n",
    "a = -10 \n",
    "if a >= 10:\n",
    "    print(\"true\")\n",
    "else:\n",
    "    print(\"wrong\")\n",
    "\n"
   ]
  },
  {
   "cell_type": "code",
   "execution_count": 5,
   "metadata": {},
   "outputs": [
    {
     "name": "stdout",
     "output_type": "stream",
     "text": [
      "wrong\n"
     ]
    }
   ],
   "source": [
    "# short hand if else \n",
    "print(\"true\") if a >=10 else print(\"wrong\")\n"
   ]
  },
  {
   "cell_type": "code",
   "execution_count": 6,
   "metadata": {},
   "outputs": [
    {
     "name": "stdout",
     "output_type": "stream",
     "text": [
      "what do you like to eat\n",
      "menu\n",
      "1. pizza\n",
      "2. burger\n",
      "3. pasta\n",
      "4. sandwich\n",
      "enter a number:\n",
      "your  order is sandwich and total amt = 99\n"
     ]
    }
   ],
   "source": [
    "# match case (not similar to switch case)\n",
    "print(\"what do you like to eat\")\n",
    "print(\"menu\")\n",
    "print(\"1. pizza\")\n",
    "print(\"2. burger\")\n",
    "print(\"3. pasta\")\n",
    "print(\"4. sandwich\")\n",
    "print(\"enter a number:\")\n",
    "ch = int(input(\"<<<\"))\n",
    "match ch:\n",
    "    case 1:\n",
    "        print(\"your order is pizza and total amt =  400\")\n",
    "    case 2:\n",
    "        print(\"your order is burger and total amt = 199\")\n",
    "    case 3:\n",
    "        print(\"your order  is pasta  and total amt  = 299\")\n",
    "    case 4: \n",
    "        print(\"your  order is sandwich and total amt = 99\")\n",
    "    case _:\n",
    "        print(\"invalid choice\")\n",
    "        "
   ]
  },
  {
   "cell_type": "code",
   "execution_count": 14,
   "metadata": {},
   "outputs": [
    {
     "name": "stdout",
     "output_type": "stream",
     "text": [
      "grade is F\n"
     ]
    }
   ],
   "source": [
    "# if elif ladder\n",
    "marks = 40\n",
    "if marks > 85:\n",
    "    grade = 'A'\n",
    "elif marks > 70:\n",
    "    grade = 'B'\n",
    "elif marks > 60:\n",
    "    grade = 'C'\n",
    "elif marks > 50:\n",
    "    grade = 'd'\n",
    "else:\n",
    "    grade = 'F'\n",
    "print(f\"grade is {grade}\")"
   ]
  },
  {
   "cell_type": "code",
   "execution_count": 15,
   "metadata": {},
   "outputs": [
    {
     "name": "stdout",
     "output_type": "stream",
     "text": [
      "A 311 is the largest \n"
     ]
    }
   ],
   "source": [
    "# find the largest number\n",
    "a, b, c, = 311, 23, 12\n",
    "if a > b and a > c:\n",
    "    print(f\"A {a} is the largest \")\n",
    "elif b > a and b > c:\n",
    "    print(f\"B {b} is the largest\")\n",
    "else:\n",
    "    print(f\"C {c} is the largert\")"
   ]
  },
  {
   "cell_type": "code",
   "execution_count": 22,
   "metadata": {},
   "outputs": [
    {
     "name": "stdout",
     "output_type": "stream",
     "text": [
      "welcome, admin\n"
     ]
    }
   ],
   "source": [
    "un = input('enter a username')\n",
    "pw = input('enter a password')\n",
    "if un != '' and pw != '':\n",
    "    if un == 'atif':\n",
    "        if pw == 'atif':\n",
    "            print(\"welcome, admin\")\n",
    "        else:\n",
    "            print(\"wrong password\")\n",
    "    else:\n",
    "        print(\"invalid username\")\n",
    "else:\n",
    "    print(\"enter valid details\")"
   ]
  },
  {
   "cell_type": "code",
   "execution_count": null,
   "metadata": {},
   "outputs": [],
   "source": []
  },
  {
   "cell_type": "code",
   "execution_count": null,
   "metadata": {},
   "outputs": [],
   "source": []
  },
  {
   "cell_type": "code",
   "execution_count": null,
   "metadata": {},
   "outputs": [],
   "source": []
  }
 ],
 "metadata": {
  "kernelspec": {
   "display_name": "base",
   "language": "python",
   "name": "python3"
  },
  "language_info": {
   "codemirror_mode": {
    "name": "ipython",
    "version": 3
   },
   "file_extension": ".py",
   "mimetype": "text/x-python",
   "name": "python",
   "nbconvert_exporter": "python",
   "pygments_lexer": "ipython3",
   "version": "3.12.4"
  }
 },
 "nbformat": 4,
 "nbformat_minor": 2
}
