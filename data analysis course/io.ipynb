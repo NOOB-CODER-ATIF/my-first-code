{
 "cells": [
  {
   "cell_type": "code",
   "execution_count": 1,
   "metadata": {},
   "outputs": [
    {
     "name": "stdout",
     "output_type": "stream",
     "text": [
      "hello i am alex\n"
     ]
    }
   ],
   "source": [
    "print(\"hello i am alex\")\n"
   ]
  },
  {
   "cell_type": "code",
   "execution_count": 2,
   "metadata": {},
   "outputs": [
    {
     "name": "stdout",
     "output_type": "stream",
     "text": [
      "once upon a time\n",
      "there ws a monkey\n",
      "sitting on the  tree\n",
      "to be continued\n"
     ]
    }
   ],
   "source": [
    "print(\"once upon a time\")\n",
    "print('there ws a monkey')\n",
    "print(\"sitting on the  tree\")\n",
    "print(\"to be continued\")\n"
   ]
  },
  {
   "cell_type": "code",
   "execution_count": 4,
   "metadata": {},
   "outputs": [
    {
     "name": "stdout",
     "output_type": "stream",
     "text": [
      "10 20 200\n",
      "10 * 20 = 200\n"
     ]
    }
   ],
   "source": [
    "a = 10\n",
    "b = 20\n",
    "c = a * b\n",
    "print(a, b, c,)\n",
    "print(a, \"*\", b, \"=\", c)\n",
    "\n"
   ]
  },
  {
   "cell_type": "code",
   "execution_count": 8,
   "metadata": {},
   "outputs": [
    {
     "name": "stdout",
     "output_type": "stream",
     "text": [
      "name: sara , age: 25 , job: sde 1\n"
     ]
    }
   ],
   "source": [
    "name = 'sara'\n",
    "age =  25\n",
    "job =\"sde 1\"\n",
    "print(\"name:\", name, \", age:\", age, \", job:\", job)\n",
    "\n",
    "\n"
   ]
  },
  {
   "cell_type": "code",
   "execution_count": 18,
   "metadata": {},
   "outputs": [
    {
     "name": "stdout",
     "output_type": "stream",
     "text": [
      "principle = 120000, rate = 2.5, time = 10, simple interest =30000.0\n",
      "principle = 120000\n",
      "rate =2.5\n",
      "time = 10\n",
      "simple interest = 30000.0\n"
     ]
    }
   ],
   "source": [
    "p = 120000\n",
    "r = 2.5\n",
    "t = 10\n",
    "si = p*r*t/100\n",
    "print(f\"principle = {p}, rate = {r}, time = {t}, simple interest ={si}\")\n",
    "print(f'principle = {p}')\n",
    "print(f'rate ={r}')\n",
    "print(f'time = {t}')\n",
    "print(f'simple interest = {si}')\n"
   ]
  },
  {
   "cell_type": "code",
   "execution_count": 19,
   "metadata": {},
   "outputs": [
    {
     "name": "stdout",
     "output_type": "stream",
     "text": [
      "simple interest calculator\n",
      "__________\n",
      "principle = 120000, rate = 2.5, time = 10, simple interest =30000.0\")\n",
      "principle = 120000\n",
      "rate = 2.5\n",
      "time = 10\n",
      "simple interst = 30000.0\n"
     ]
    }
   ],
   "source": [
    "p = 120000\n",
    "r = 2.5\n",
    "t = 10\n",
    "si = p*r*t/100\n",
    "print(\"simple interest calculator\")\n",
    "print(\"_\" *10)\n",
    "print(f'principle = {p}, rate = {r}, time = {t}, simple interest ={si}\")')\n",
    "print(f'principle = {p}')\n",
    "print(f'rate = {r}')\n",
    "print(f'time = {t}')\n",
    "print(f'simple interst = {si}')\n",
    "\n",
    "\n",
    "\n"
   ]
  },
  {
   "cell_type": "code",
   "execution_count": 24,
   "metadata": {},
   "outputs": [
    {
     "name": "stdout",
     "output_type": "stream",
     "text": [
      "simple interest calculator\n",
      "______________________________\n",
      "principle               120000\n",
      "rate =                   2.5\n",
      "time =                    10\n",
      "______________________________\n",
      "simple interst =       30000.0\n",
      "______________________________\n"
     ]
    }
   ],
   "source": [
    "p = 120000\n",
    "r = 2.5\n",
    "t = 10\n",
    "si = p*r*t/100\n",
    "print(\"simple interest calculator\")\n",
    "print(\"_\" *30)\n",
    "print(f'principle {p:20}')\n",
    "print(f'rate = {r:21}')\n",
    "print(f'time = {t:21}')\n",
    "print(\"_\" *30)\n",
    "print(f'simple interst = {si:13}')\n",
    "print(\"_\" *30)"
   ]
  },
  {
   "cell_type": "code",
   "execution_count": 25,
   "metadata": {},
   "outputs": [
    {
     "name": "stdout",
     "output_type": "stream",
     "text": [
      "simple interest calculator\n",
      "______________________________\n",
      "principle                120.0k\n",
      "rate =                   2.5\n",
      "time =                    10\n",
      "______________________________\n",
      "simple interst =       30000.0\n",
      "______________________________\n"
     ]
    }
   ],
   "source": [
    "p = 120000\n",
    "r = 2.5\n",
    "t = 10\n",
    "si = p*r*t/100\n",
    "print(\"simple interest calculator\")\n",
    "print(\"_\" *30)\n",
    "print(f'principle {p/1000:20}k')\n",
    "print(f'rate = {r:21}')\n",
    "print(f'time = {t:21}')\n",
    "print(\"_\" *30)\n",
    "print(f'simple interst = {si:13}')\n",
    "print(\"_\" *30)"
   ]
  },
  {
   "cell_type": "code",
   "execution_count": null,
   "metadata": {},
   "outputs": [],
   "source": []
  },
  {
   "cell_type": "code",
   "execution_count": null,
   "metadata": {},
   "outputs": [],
   "source": []
  },
  {
   "cell_type": "code",
   "execution_count": 28,
   "metadata": {},
   "outputs": [
    {
     "name": "stdout",
     "output_type": "stream",
     "text": [
      "abc\n",
      "you may like it but i dont care\n"
     ]
    }
   ],
   "source": [
    "fav_movie = input(\"plz enter your movie\")\n",
    "print(fav_movie)\n",
    "print(\"you may like it but i dont care\")\n"
   ]
  },
  {
   "cell_type": "code",
   "execution_count": 30,
   "metadata": {},
   "outputs": [
    {
     "name": "stdout",
     "output_type": "stream",
     "text": [
      "result is\n",
      "23\n"
     ]
    }
   ],
   "source": [
    "a = input(\"enter  a number\")\n",
    "b = input(\"enter another number\")\n",
    "print(\"result is\")\n",
    "print(a + b)\n"
   ]
  },
  {
   "cell_type": "code",
   "execution_count": 33,
   "metadata": {},
   "outputs": [
    {
     "name": "stdout",
     "output_type": "stream",
     "text": [
      "result is\n",
      "40\n"
     ]
    }
   ],
   "source": [
    "a = input(\"enter  a number\")\n",
    "b = input(\"enter another number\")\n",
    "print(\"result is\")\n",
    "print(int(a) + int(b))"
   ]
  }
 ],
 "metadata": {
  "kernelspec": {
   "display_name": "base",
   "language": "python",
   "name": "python3"
  },
  "language_info": {
   "codemirror_mode": {
    "name": "ipython",
    "version": 3
   },
   "file_extension": ".py",
   "mimetype": "text/x-python",
   "name": "python",
   "nbconvert_exporter": "python",
   "pygments_lexer": "ipython3",
   "version": "3.12.4"
  }
 },
 "nbformat": 4,
 "nbformat_minor": 2
}
