{
 "cells": [
  {
   "cell_type": "code",
   "execution_count": 3,
   "metadata": {},
   "outputs": [
    {
     "name": "stdout",
     "output_type": "stream",
     "text": [
      "['chrome', 'photos', 'zomato', 'swiggy', 'uber', 'drive', 'instagram', 'facebook', 'whatsapp']\n"
     ]
    }
   ],
   "source": [
    "apps = ['chrome','photos','zomato','swiggy','uber','drive','instagram','facebook','whatsapp',]\n",
    "print(apps)"
   ]
  },
  {
   "cell_type": "code",
   "execution_count": 7,
   "metadata": {},
   "outputs": [
    {
     "name": "stdout",
     "output_type": "stream",
     "text": [
      "drive\n",
      "instagram\n",
      "instagram\n",
      "uber\n"
     ]
    }
   ],
   "source": [
    "print(apps[5])\n",
    "print(apps[6])\n",
    "print(apps[-3])\n",
    "print(apps[-5])"
   ]
  },
  {
   "cell_type": "code",
   "execution_count": 14,
   "metadata": {},
   "outputs": [
    {
     "name": "stdout",
     "output_type": "stream",
     "text": [
      "['chrome', 'photos', 'zomato']\n",
      "['chrome', 'zomato', 'uber', 'instagram', 'whatsapp']\n",
      "['chrome', 'photos', 'zomato', 'swiggy', 'uber']\n",
      "['drive', 'instagram', 'facebook', 'whatsapp']\n",
      "['chrome', 'zomato', 'uber', 'instagram', 'whatsapp']\n"
     ]
    }
   ],
   "source": [
    "print(apps[0:3])\n",
    "print(apps[0:9:2])\n",
    "print(apps[:5])\n",
    "print(apps[5:])\n",
    "print(apps[::2])"
   ]
  },
  {
   "cell_type": "code",
   "execution_count": 15,
   "metadata": {},
   "outputs": [
    {
     "name": "stdout",
     "output_type": "stream",
     "text": [
      "['chrome', 'photos', 'zomato', 'swiggy', 'uber', 'drive', 'instagram', 'facebook', 'whatsapp']\n"
     ]
    }
   ],
   "source": [
    "print(apps)"
   ]
  },
  {
   "cell_type": "code",
   "execution_count": 16,
   "metadata": {},
   "outputs": [
    {
     "name": "stdout",
     "output_type": "stream",
     "text": [
      "['chrome', 'photos', 'zomato', 'swiggy', 'uber', 'drive', 'instagram', 'facebook', 'whatsapp', 'tinder']\n"
     ]
    }
   ],
   "source": [
    "apps.append('tinder')\n",
    "print(apps)"
   ]
  },
  {
   "cell_type": "code",
   "execution_count": 17,
   "metadata": {},
   "outputs": [
    {
     "name": "stdout",
     "output_type": "stream",
     "text": [
      "['chrome', 'photos', 'tinder', 'zomato', 'swiggy', 'uber', 'drive', 'instagram', 'facebook', 'whatsapp', 'tinder']\n"
     ]
    }
   ],
   "source": [
    "apps.insert(2, 'tinder')\n",
    "print(apps)"
   ]
  },
  {
   "cell_type": "code",
   "execution_count": 18,
   "metadata": {},
   "outputs": [
    {
     "name": "stdout",
     "output_type": "stream",
     "text": [
      "['chrome', 'photos', 'tinder', 'zomato', 'swiggy', 'uber', 'instagram', 'facebook', 'whatsapp', 'tinder']\n"
     ]
    }
   ],
   "source": [
    "apps.pop(6)\n",
    "print(apps)"
   ]
  },
  {
   "cell_type": "code",
   "execution_count": 19,
   "metadata": {},
   "outputs": [
    {
     "name": "stdout",
     "output_type": "stream",
     "text": [
      "['chrome', 'photos', 'tinder', 'zomato', 'swiggy', 'uber', 'instagram', 'facebook', 'tinder']\n"
     ]
    }
   ],
   "source": [
    "apps.remove('whatsapp')\n",
    "print(apps)"
   ]
  },
  {
   "cell_type": "code",
   "execution_count": 21,
   "metadata": {},
   "outputs": [
    {
     "name": "stdout",
     "output_type": "stream",
     "text": [
      "['chrome', 'facebook', 'instagram', 'photos', 'swiggy', 'tinder', 'tinder', 'uber', 'zomato']\n"
     ]
    }
   ],
   "source": [
    "apps.sort()\n",
    "print(apps)"
   ]
  },
  {
   "cell_type": "code",
   "execution_count": 22,
   "metadata": {},
   "outputs": [
    {
     "name": "stdout",
     "output_type": "stream",
     "text": [
      "['chrome', 'facebook', 'instagram', 'photos', 'swiggy', 'tinder', 'tinder', 'uber', 'zomato']\n"
     ]
    }
   ],
   "source": [
    "apps2 = apps.copy()\n",
    "print(apps2)"
   ]
  },
  {
   "cell_type": "code",
   "execution_count": 23,
   "metadata": {},
   "outputs": [
    {
     "name": "stdout",
     "output_type": "stream",
     "text": [
      "[]\n"
     ]
    }
   ],
   "source": [
    "apps.clear()\n",
    "print(apps)"
   ]
  },
  {
   "cell_type": "code",
   "execution_count": 24,
   "metadata": {},
   "outputs": [
    {
     "name": "stdout",
     "output_type": "stream",
     "text": [
      "['chrome', 'facebook', 'instagram', 'photos', 'swiggy', 'tinder', 'tinder', 'uber', 'zomato', 'gpay', 'camera', 'maps']\n"
     ]
    }
   ],
   "source": [
    "apps3 = ['gpay','camera','maps']\n",
    "apps2.extend(apps3)\n",
    "print(apps2)"
   ]
  },
  {
   "cell_type": "code",
   "execution_count": 27,
   "metadata": {},
   "outputs": [
    {
     "name": "stdout",
     "output_type": "stream",
     "text": [
      "['chrome', 'facebook', 'instagram', 'photos', 'swiggy', 'tinder', 'tinder', 'uber', 'zomato', 'gpay', 'camera', 'maps', 'chrome', 'facebook', 'instagram', 'photos', 'swiggy', 'tinder', 'tinder', 'uber', 'zomato', 'gpay', 'camera', 'maps', 'chrome', 'facebook', 'instagram', 'photos', 'swiggy', 'tinder', 'tinder', 'uber', 'zomato', 'gpay', 'camera', 'maps', 'chrome', 'facebook', 'instagram', 'photos', 'swiggy', 'tinder', 'tinder', 'uber', 'zomato', 'gpay', 'camera', 'maps']\n"
     ]
    }
   ],
   "source": [
    "apps3 = ['gpay','camera','maps']\n",
    "apps3.extend(apps2)\n",
    "print(apps2)"
   ]
  },
  {
   "cell_type": "code",
   "execution_count": null,
   "metadata": {},
   "outputs": [],
   "source": []
  }
 ],
 "metadata": {
  "kernelspec": {
   "display_name": "base",
   "language": "python",
   "name": "python3"
  },
  "language_info": {
   "codemirror_mode": {
    "name": "ipython",
    "version": 3
   },
   "file_extension": ".py",
   "mimetype": "text/x-python",
   "name": "python",
   "nbconvert_exporter": "python",
   "pygments_lexer": "ipython3",
   "version": "3.12.4"
  }
 },
 "nbformat": 4,
 "nbformat_minor": 2
}
